{
 "cells": [
  {
   "cell_type": "markdown",
   "id": "11180fd8",
   "metadata": {
    "colab_type": "text",
    "id": "view-in-github"
   },
   "source": [
    "<a target=\"_blank\" href=\"https://colab.research.google.com/github/billsioros/RoughML\">\n",
    "  <img src=\"https://colab.research.google.com/assets/colab-badge.svg\" alt=\"Open In Colab\"/>\n",
    "</a>"
   ]
  },
  {
   "cell_type": "markdown",
   "id": "58367bfb",
   "metadata": {
    "id": "cce26209"
   },
   "source": [
    "# ✔️ Prerequisites"
   ]
  },
  {
   "cell_type": "markdown",
   "id": "94fc4513",
   "metadata": {
    "id": "affab565"
   },
   "source": [
    "First of all we need to take care of a few **prerequisites**, most notably:\n",
    "\n",
    "- Install the various pip modules that we will be using.\n",
    "- Install some linux specific dependencies of our [content loss](#content-loss).\n",
    "- Initialize the Random Number Generator(s), so that our experiments can be replicated.\n",
    "- Determine:\n",
    "  - The current working directory, as it's going to be used to reference various files such as the dataset, our model checkpoints e.t.c\n",
    "  - The available hardware backend. GPU utilization is preferable, as it results in higher complition time.\n",
    "- `(Optionally)` Mount Google Drive, where we can load our dataset from."
   ]
  },
  {
   "cell_type": "markdown",
   "id": "7fd37610",
   "metadata": {},
   "source": [
    "## Cloning the repository"
   ]
  },
  {
   "cell_type": "code",
   "execution_count": null,
   "id": "5449bc2b",
   "metadata": {},
   "outputs": [],
   "source": [
    "!git clone https://github.com/billsioros/RoughGAN.git"
   ]
  },
  {
   "cell_type": "code",
   "execution_count": null,
   "id": "cae1f363",
   "metadata": {},
   "outputs": [],
   "source": [
    "import sys\n",
    "\n",
    "!{sys.executable} -m pip install RoughGAN"
   ]
  },
  {
   "cell_type": "markdown",
   "id": "08c97e49",
   "metadata": {},
   "source": [
    "## Generate a toy dataset"
   ]
  },
  {
   "cell_type": "code",
   "execution_count": null,
   "id": "6fa5c87b",
   "metadata": {},
   "outputs": [],
   "source": [
    "!python RoughGAN/src/roughgan/cli/dataset.py standard"
   ]
  },
  {
   "cell_type": "code",
   "execution_count": null,
   "id": "922a9a80",
   "metadata": {},
   "outputs": [],
   "source": [
    "!mkdir -p Datasets\n",
    "!mv dataset_1000_128_03_00_03_02_02_0.50.pt Datasets"
   ]
  },
  {
   "cell_type": "markdown",
   "id": "94211220",
   "metadata": {
    "id": "19e0a6d0"
   },
   "source": [
    "## Determining the Current Working Directory"
   ]
  },
  {
   "cell_type": "code",
   "execution_count": null,
   "id": "546ebc9f",
   "metadata": {
    "cellView": "code",
    "id": "945a9ccd"
   },
   "outputs": [],
   "source": [
    "from pathlib import Path\n",
    "\n",
    "BASE_DIR = Path.cwd()"
   ]
  },
  {
   "cell_type": "code",
   "execution_count": null,
   "id": "68548e3f",
   "metadata": {},
   "outputs": [],
   "source": [
    "OUTPUT_DIR = BASE_DIR / \"Output\"\n",
    "DATASET_DIR = BASE_DIR / \"Datasets\""
   ]
  },
  {
   "cell_type": "markdown",
   "id": "00abe820",
   "metadata": {},
   "source": [
    "## Configuring our Loggers"
   ]
  },
  {
   "cell_type": "code",
   "execution_count": null,
   "id": "206c8800",
   "metadata": {},
   "outputs": [],
   "source": [
    "import os\n",
    "\n",
    "LOGGING_LEVEL = os.environ.get(\"LOGGING_LEVEL\", \"CRITICAL\").upper()\n",
    "\n",
    "LOGGING_CONFIG = {\n",
    "    \"version\": 1,\n",
    "    \"disable_existing_loggers\": False,\n",
    "    \"formatters\": {\"standard\": {\"format\": \"[%(asctime)s] %(levelname)s:%(name)s: %(message)s\"}},\n",
    "    \"handlers\": {\n",
    "        \"default\": {\n",
    "            \"level\": LOGGING_LEVEL,\n",
    "            \"formatter\": \"standard\",\n",
    "            \"class\": \"logging.StreamHandler\",\n",
    "        },\n",
    "        \"file\": {\n",
    "            \"level\": LOGGING_LEVEL,\n",
    "            \"formatter\": \"standard\",\n",
    "            \"class\": \"logging.FileHandler\",\n",
    "        },\n",
    "    },\n",
    "    \"loggers\": {\"\": {\"handlers\": [\"default\", \"file\"], \"level\": LOGGING_LEVEL}},\n",
    "}"
   ]
  },
  {
   "cell_type": "markdown",
   "id": "4b52a5f8",
   "metadata": {
    "id": "16a902e2"
   },
   "source": [
    "## Installing [graphviz](https://graphviz.org/) & [libgraphviz-dev](https://packages.debian.org/jessie/libgraphviz-dev)"
   ]
  },
  {
   "cell_type": "markdown",
   "id": "f505f148",
   "metadata": {
    "id": "8c0cdd85"
   },
   "source": [
    "The aforementioned packages are required by [PyINSECT](https://github.com/billsioros/PyINSECT/tree/implementing-HPGs) and more specifically its graph plotting methods."
   ]
  },
  {
   "cell_type": "code",
   "execution_count": null,
   "id": "075778c1",
   "metadata": {
    "cellView": "code",
    "colab": {
     "base_uri": "https://localhost:8080/"
    },
    "id": "919734ca",
    "outputId": "0767e6fd-b55e-4ebc-9e0e-11b243700c1c"
   },
   "outputs": [],
   "source": [
    "!sudo apt-get install graphviz libgraphviz-dev 1> /dev/null"
   ]
  },
  {
   "cell_type": "markdown",
   "id": "4c83d804",
   "metadata": {
    "id": "0192c059",
    "lines_to_next_cell": 0
   },
   "source": [
    "## Initializing (a.k.a `Seeding`) the Random Number Generator(s)"
   ]
  },
  {
   "cell_type": "code",
   "execution_count": null,
   "id": "a5013c17",
   "metadata": {
    "cellView": "code",
    "id": "4d6c30c9"
   },
   "outputs": [],
   "source": [
    "import os\n",
    "import random\n",
    "\n",
    "import numpy as np\n",
    "import torch\n",
    "\n",
    "SEED = 1234\n",
    "\n",
    "if SEED is not None:\n",
    "    np.random.seed(SEED)\n",
    "    random.seed(SEED)\n",
    "    torch.manual_seed(SEED)\n",
    "    torch.cuda.manual_seed(SEED)\n",
    "    torch.backends.cudnn.deterministic = True\n",
    "    os.environ[\"PYTHONHASHSEED\"] = str(SEED)"
   ]
  },
  {
   "cell_type": "markdown",
   "id": "cbf07155",
   "metadata": {
    "id": "6fce8a2a"
   },
   "source": [
    "## Determining available backend"
   ]
  },
  {
   "cell_type": "markdown",
   "id": "129dfa8e",
   "metadata": {
    "id": "5ca328f8"
   },
   "source": [
    "By default, we are going to be utilizing the available CPU backend, if no GPU is available."
   ]
  },
  {
   "cell_type": "code",
   "execution_count": null,
   "id": "98bf70f5",
   "metadata": {
    "cellView": "code",
    "id": "520ba5c1",
    "lines_to_next_cell": 2
   },
   "outputs": [],
   "source": [
    "device = torch.device(\"cuda:0\" if torch.cuda.is_available() else \"cpu\")"
   ]
  },
  {
   "cell_type": "markdown",
   "id": "c800dc08",
   "metadata": {},
   "source": [
    "## Setting up our callbacks"
   ]
  },
  {
   "cell_type": "markdown",
   "id": "9e33c933",
   "metadata": {
    "lines_to_next_cell": 2
   },
   "source": [
    "### Logging initialization callback"
   ]
  },
  {
   "cell_type": "code",
   "execution_count": null,
   "id": "deb2d771",
   "metadata": {},
   "outputs": [],
   "source": [
    "def logging_callback(config, logging_dir):\n",
    "    level = config.handlers.file.level.lower()\n",
    "\n",
    "    config.handlers.file.filename = logging_dir / f\"{level}.log\"\n",
    "\n",
    "    return config"
   ]
  },
  {
   "cell_type": "markdown",
   "id": "73e74de6",
   "metadata": {
    "id": "60d78d1e"
   },
   "source": [
    "# 🙃 A naive-approach"
   ]
  },
  {
   "cell_type": "markdown",
   "id": "9e082998",
   "metadata": {
    "id": "ec374650"
   },
   "source": [
    "## Defining the **Generator** and the **Discriminator** instantiation callbacks"
   ]
  },
  {
   "cell_type": "code",
   "execution_count": null,
   "id": "56324ee9",
   "metadata": {
    "cellView": "code",
    "id": "d6594cb1"
   },
   "outputs": [],
   "source": [
    "from roughgan.models import PerceptronGenerator\n",
    "\n",
    "\n",
    "def get_generator():\n",
    "    return PerceptronGenerator.from_device(device)"
   ]
  },
  {
   "cell_type": "code",
   "execution_count": null,
   "id": "83a7f8e6",
   "metadata": {
    "cellView": "code",
    "id": "cac059ee"
   },
   "outputs": [],
   "source": [
    "from roughgan.models import PerceptronDiscriminator\n",
    "\n",
    "\n",
    "def get_discriminator(generator):\n",
    "    return PerceptronDiscriminator.from_generator(generator)"
   ]
  },
  {
   "cell_type": "markdown",
   "id": "5c839b09",
   "metadata": {
    "id": "eb813599"
   },
   "source": [
    "## Training"
   ]
  },
  {
   "cell_type": "code",
   "execution_count": null,
   "id": "c7b0fc5e",
   "metadata": {
    "cellView": "code",
    "id": "8a131c21"
   },
   "outputs": [],
   "source": [
    "from torch.nn import BCELoss\n",
    "\n",
    "criterion = BCELoss().to(device)"
   ]
  },
  {
   "cell_type": "code",
   "execution_count": null,
   "id": "be3f2a23",
   "metadata": {
    "cellView": "code",
    "id": "63114157"
   },
   "outputs": [],
   "source": [
    "import functools\n",
    "\n",
    "from torch.optim import Adam\n",
    "\n",
    "from roughgan.content.loss import NGramGraphContentLoss\n",
    "from roughgan.data.loaders import load_multiple_datasets_from_pt\n",
    "from roughgan.data.transforms import To, View\n",
    "from roughgan.training.epoch import per_epoch\n",
    "from roughgan.training.flow import TrainingFlow\n",
    "\n",
    "training_flow = TrainingFlow(\n",
    "    output_dir=OUTPUT_DIR,\n",
    "    logging={\"config\": LOGGING_CONFIG, \"callback\": logging_callback},\n",
    "    training={\n",
    "        \"manager\": {\n",
    "            \"benchmark\": True,\n",
    "            # Uncomment if you want to enable checkpointing\n",
    "            # \"checkpoint\": {\"multiple\": True},\n",
    "            \"train_epoch\": per_epoch,\n",
    "            \"log_every_n\": 10,\n",
    "            \"criterion\": {\"instance\": criterion},\n",
    "            \"n_epochs\": 10,\n",
    "            \"train_ratio\": 0.8,\n",
    "            \"optimizer\": {\n",
    "                \"type\": Adam,\n",
    "                \"params\": {\"lr\": 0.1, \"weight_decay\": 0},\n",
    "            },\n",
    "            \"dataloader\": {\n",
    "                \"batch_size\": 256,\n",
    "                \"shuffle\": True,\n",
    "                \"num_workers\": 0,\n",
    "            },\n",
    "        },\n",
    "    },\n",
    "    content_loss={\n",
    "        \"type\": NGramGraphContentLoss,\n",
    "        # Uncomment if you want to enable checkpointing\n",
    "        # \"cache\": \"n_gram_graph_content_loss.pkl\",\n",
    "    },\n",
    "    data={\n",
    "        \"loader\": functools.partial(\n",
    "            load_multiple_datasets_from_pt,\n",
    "            DATASET_DIR,\n",
    "            transforms=[To(device), View(1, 128, 128)],\n",
    "            limit=(2, 10),\n",
    "        )\n",
    "    },\n",
    "    animation={\n",
    "        \"indices\": [\n",
    "            0,\n",
    "        ],\n",
    "        \"save_path\": \"perceptron_per_epoch_animation.mp4\",\n",
    "    },\n",
    "    plot={\n",
    "        \"grayscale\": {\"limit\": 10, \"save_path_fmt\": \"grayscale/%s_%02d.png\"},\n",
    "        \"surface\": {\"limit\": 10, \"save_path_fmt\": \"surface/%s_%02d.png\"},\n",
    "        \"against\": {\"save_path_fmt\": \"against_%s.png\"},\n",
    "    },\n",
    "    suppress_exceptions=False,\n",
    ")"
   ]
  },
  {
   "cell_type": "code",
   "execution_count": null,
   "id": "eb9ea568",
   "metadata": {
    "colab": {
     "base_uri": "https://localhost:8080/",
     "height": 573
    },
    "id": "836ed418",
    "outputId": "f4d7ef3c-027c-4725-9f07-50e4d7c28ff1",
    "tags": []
   },
   "outputs": [],
   "source": [
    "training_flow(get_generator, get_discriminator)"
   ]
  },
  {
   "cell_type": "markdown",
   "id": "60d20a8c",
   "metadata": {
    "id": "fe589c1a"
   },
   "source": [
    "# 😎 A CNN based approach"
   ]
  },
  {
   "cell_type": "markdown",
   "id": "7cdbab9c",
   "metadata": {
    "id": "b16a4946"
   },
   "source": [
    "## Instantiating the **Generator** and the **Discriminator** Networks"
   ]
  },
  {
   "cell_type": "code",
   "execution_count": null,
   "id": "823e0ae2",
   "metadata": {
    "cellView": "code",
    "id": "e301a7a0"
   },
   "outputs": [],
   "source": [
    "from roughgan.models import CNNGenerator\n",
    "\n",
    "\n",
    "def get_generator():\n",
    "    return CNNGenerator.from_device(device)"
   ]
  },
  {
   "cell_type": "code",
   "execution_count": null,
   "id": "e65bc1b8",
   "metadata": {
    "cellView": "code",
    "id": "5a8a9aad"
   },
   "outputs": [],
   "source": [
    "from roughgan.models import CNNDiscriminator\n",
    "\n",
    "\n",
    "def get_discriminator(generator):\n",
    "    return CNNDiscriminator.from_generator(generator)"
   ]
  },
  {
   "cell_type": "markdown",
   "id": "ca9fd6e4",
   "metadata": {
    "id": "7bbbcc22"
   },
   "source": [
    "## Training"
   ]
  },
  {
   "cell_type": "code",
   "execution_count": null,
   "id": "4febf2a4",
   "metadata": {
    "cellView": "code",
    "id": "45778b4c"
   },
   "outputs": [],
   "source": [
    "from torch.nn import BCELoss\n",
    "\n",
    "criterion = BCELoss().to(device)"
   ]
  },
  {
   "cell_type": "code",
   "execution_count": null,
   "id": "0ad01665",
   "metadata": {
    "cellView": "code",
    "id": "82fb12f6"
   },
   "outputs": [],
   "source": [
    "import functools\n",
    "\n",
    "from torch.optim import Adam\n",
    "\n",
    "from roughgan.data.transforms import To, View\n",
    "from roughgan.training.epoch import per_epoch\n",
    "\n",
    "training_flow = TrainingFlow(\n",
    "    output_dir=OUTPUT_DIR,\n",
    "    logging={\"config\": LOGGING_CONFIG, \"callback\": logging_callback},\n",
    "    training={\n",
    "        \"manager\": {\n",
    "            \"benchmark\": True,\n",
    "            # Uncomment if you want to enable checkpointing\n",
    "            # \"checkpoint\": {\"multiple\": True},\n",
    "            \"train_epoch\": per_epoch,\n",
    "            \"log_every_n\": 10,\n",
    "            \"criterion\": {\"instance\": criterion},\n",
    "            \"n_epochs\": 10,\n",
    "            \"train_ratio\": 0.8,\n",
    "            \"optimizer\": {\n",
    "                \"type\": Adam,\n",
    "                \"params\": {\"lr\": 0.0002, \"betas\": (0.5, 0.999)},\n",
    "            },\n",
    "            \"dataloader\": {\n",
    "                \"batch_size\": 256,\n",
    "                \"shuffle\": True,\n",
    "                \"num_workers\": 0,\n",
    "            },\n",
    "        },\n",
    "    },\n",
    "    content_loss={\n",
    "        \"type\": NGramGraphContentLoss,\n",
    "        # Uncomment if you want to enable checkpointing\n",
    "        # \"cache\": \"n_gram_graph_content_loss.pkl\",\n",
    "    },\n",
    "    data={\n",
    "        \"loader\": functools.partial(\n",
    "            load_multiple_datasets_from_pt,\n",
    "            DATASET_DIR,\n",
    "            transforms=[To(device), View(1, 128, 128)],\n",
    "            limit=(2, 10),\n",
    "        )\n",
    "    },\n",
    "    animation={\n",
    "        \"indices\": [\n",
    "            0,\n",
    "        ],\n",
    "        \"save_path\": \"cnn_per_epoch_animation.mp4\",\n",
    "    },\n",
    "    plot={\n",
    "        \"grayscale\": {\"limit\": 10, \"save_path_fmt\": \"grayscale/%s_%02d.png\"},\n",
    "        \"surface\": {\"limit\": 10, \"save_path_fmt\": \"surface/%s_%02d.png\"},\n",
    "        \"against\": {\"save_path_fmt\": \"against_%s.png\"},\n",
    "    },\n",
    "    suppress_exceptions=False,\n",
    ")"
   ]
  },
  {
   "cell_type": "code",
   "execution_count": null,
   "id": "5778a1a4",
   "metadata": {
    "colab": {
     "base_uri": "https://localhost:8080/",
     "height": 573
    },
    "id": "3c4cdce1",
    "outputId": "c22dfcc0-c6d9-4726-c197-acf11bdec52f"
   },
   "outputs": [],
   "source": [
    "training_flow(get_generator, get_discriminator)"
   ]
  },
  {
   "cell_type": "markdown",
   "id": "42b536a8",
   "metadata": {},
   "source": [
    "# 👋 Dismounting Google Drive and persisting any changes made"
   ]
  },
  {
   "cell_type": "code",
   "execution_count": null,
   "id": "82ae05fb",
   "metadata": {},
   "outputs": [],
   "source": [
    "try:\n",
    "    from google.colab import drive\n",
    "\n",
    "    drive.flush_and_unmount()\n",
    "except ImportError:\n",
    "    pass"
   ]
  }
 ],
 "metadata": {
  "jupytext": {
   "encoding": "# -*- coding: utf-8 -*-",
   "formats": "ipynb,py:light",
   "main_language": "python"
  },
  "kernelspec": {
   "display_name": "",
   "language": "python",
   "name": ""
  },
  "language_info": {
   "codemirror_mode": {
    "name": "ipython",
    "version": 3
   },
   "file_extension": ".py",
   "mimetype": "text/x-python",
   "name": "python",
   "nbconvert_exporter": "python",
   "pygments_lexer": "ipython3",
   "version": "3.9.4"
  }
 },
 "nbformat": 4,
 "nbformat_minor": 5
}
